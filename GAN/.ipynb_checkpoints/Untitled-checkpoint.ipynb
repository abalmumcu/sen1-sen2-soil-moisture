{
 "cells": [
  {
   "cell_type": "code",
   "execution_count": 1,
   "id": "b6f9af20-e123-4350-b9be-45c07c28e617",
   "metadata": {},
   "outputs": [],
   "source": [
    "from utils import image_load,filter_night_images"
   ]
  },
  {
   "cell_type": "code",
   "execution_count": 5,
   "id": "bc5711d3-f0b0-4ed3-b571-b6d2de541d54",
   "metadata": {},
   "outputs": [],
   "source": [
    "sentinel_2_path= \"./extracted_images/Sentinel2/Sentinel2_crop_\"\n",
    "\n",
    "Sen2,S2_Features = image_load(sentinel_2_path,sentinel_type= 2)\n"
   ]
  },
  {
   "cell_type": "code",
   "execution_count": 6,
   "id": "b939d084-058d-4a41-9c8d-c2677bc446ff",
   "metadata": {},
   "outputs": [
    {
     "data": {
      "text/plain": [
       "(0,)"
      ]
     },
     "execution_count": 6,
     "metadata": {},
     "output_type": "execute_result"
    }
   ],
   "source": [
    "Sen2.shape"
   ]
  },
  {
   "cell_type": "code",
   "execution_count": null,
   "id": "92451b6c-3c77-40e8-ab62-cc3fc0bf9787",
   "metadata": {},
   "outputs": [],
   "source": []
  }
 ],
 "metadata": {
  "kernelspec": {
   "display_name": "Python 3 (ipykernel)",
   "language": "python",
   "name": "python3"
  },
  "language_info": {
   "codemirror_mode": {
    "name": "ipython",
    "version": 3
   },
   "file_extension": ".py",
   "mimetype": "text/x-python",
   "name": "python",
   "nbconvert_exporter": "python",
   "pygments_lexer": "ipython3",
   "version": "3.8.13"
  }
 },
 "nbformat": 4,
 "nbformat_minor": 5
}
