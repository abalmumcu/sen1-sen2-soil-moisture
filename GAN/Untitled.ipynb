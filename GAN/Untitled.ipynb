{
 "cells": [
  {
   "cell_type": "code",
   "execution_count": 2,
   "id": "b6f9af20-e123-4350-b9be-45c07c28e617",
   "metadata": {},
   "outputs": [],
   "source": [
    "from utils import image_load,filter_night_images"
   ]
  },
  {
   "cell_type": "code",
   "execution_count": 3,
   "id": "bc5711d3-f0b0-4ed3-b571-b6d2de541d54",
   "metadata": {},
   "outputs": [
    {
     "name": "stdout",
     "output_type": "stream",
     "text": [
      "/Users/alperbalmumcu/Github/sen1-sen2-soil-moisture/extracted_images/Sentinel2/Sentinel2_crop_1/2020-03-29.tif\n",
      "/Users/alperbalmumcu/Github/sen1-sen2-soil-moisture/extracted_images/Sentinel2/Sentinel2_crop_1/2019-05-29.tif\n",
      "/Users/alperbalmumcu/Github/sen1-sen2-soil-moisture/extracted_images/Sentinel2/Sentinel2_crop_1/2021-09-17.tif\n",
      "/Users/alperbalmumcu/Github/sen1-sen2-soil-moisture/extracted_images/Sentinel2/Sentinel2_crop_1/2020-06-24.tif\n",
      "/Users/alperbalmumcu/Github/sen1-sen2-soil-moisture/extracted_images/Sentinel2/Sentinel2_crop_1/2021-06-12(1).tif\n",
      "/Users/alperbalmumcu/Github/sen1-sen2-soil-moisture/extracted_images/Sentinel2/Sentinel2_crop_1/2019-05-14.tif\n",
      "/Users/alperbalmumcu/Github/sen1-sen2-soil-moisture/extracted_images/Sentinel2/Sentinel2_crop_1/2019-02-28(1).tif\n",
      "/Users/alperbalmumcu/Github/sen1-sen2-soil-moisture/extracted_images/Sentinel2/Sentinel2_crop_1/2021-05-28.tif\n",
      "/Users/alperbalmumcu/Github/sen1-sen2-soil-moisture/extracted_images/Sentinel2/Sentinel2_crop_1/2019-07-13.tif\n",
      "/Users/alperbalmumcu/Github/sen1-sen2-soil-moisture/extracted_images/Sentinel2/Sentinel2_crop_1/2019-02-23.tif\n",
      "/Users/alperbalmumcu/Github/sen1-sen2-soil-moisture/extracted_images/Sentinel2/Sentinel2_crop_1/2020-01-14(1).tif\n",
      "/Users/alperbalmumcu/Github/sen1-sen2-soil-moisture/extracted_images/Sentinel2/Sentinel2_crop_1/2019-05-16.tif\n",
      "/Users/alperbalmumcu/Github/sen1-sen2-soil-moisture/extracted_images/Sentinel2/Sentinel2_crop_1/2019-03-22(1).tif\n",
      "/Users/alperbalmumcu/Github/sen1-sen2-soil-moisture/extracted_images/Sentinel2/Sentinel2_crop_1/2020-01-06.tif\n",
      "/Users/alperbalmumcu/Github/sen1-sen2-soil-moisture/extracted_images/Sentinel2/Sentinel2_crop_1/2019-12-27.tif\n",
      "/Users/alperbalmumcu/Github/sen1-sen2-soil-moisture/extracted_images/Sentinel2/Sentinel2_crop_1/2021-08-31(1).tif\n",
      "/Users/alperbalmumcu/Github/sen1-sen2-soil-moisture/extracted_images/Sentinel2/Sentinel2_crop_1/2019-04-24(1).tif\n",
      "/Users/alperbalmumcu/Github/sen1-sen2-soil-moisture/extracted_images/Sentinel2/Sentinel2_crop_1/2020-06-12(1).tif\n",
      "/Users/alperbalmumcu/Github/sen1-sen2-soil-moisture/extracted_images/Sentinel2/Sentinel2_crop_1/2019-07-15(1).tif\n",
      "/Users/alperbalmumcu/Github/sen1-sen2-soil-moisture/extracted_images/Sentinel2/Sentinel2_crop_1/2019-03-20(1).tif\n",
      "/Users/alperbalmumcu/Github/sen1-sen2-soil-moisture/extracted_images/Sentinel2/Sentinel2_crop_1/2021-07-29.tif\n",
      "/Users/alperbalmumcu/Github/sen1-sen2-soil-moisture/extracted_images/Sentinel2/Sentinel2_crop_1/2021-03-19(1).tif\n",
      "/Users/alperbalmumcu/Github/sen1-sen2-soil-moisture/extracted_images/Sentinel2/Sentinel2_crop_1/2019-09-06.tif\n",
      "/Users/alperbalmumcu/Github/sen1-sen2-soil-moisture/extracted_images/Sentinel2/Sentinel2_crop_1/2020-06-24(1).tif\n",
      "/Users/alperbalmumcu/Github/sen1-sen2-soil-moisture/extracted_images/Sentinel2/Sentinel2_crop_1/2020-09-25(1).tif\n",
      "/Users/alperbalmumcu/Github/sen1-sen2-soil-moisture/extracted_images/Sentinel2/Sentinel2_crop_1/2021-02-19.tif\n",
      "/Users/alperbalmumcu/Github/sen1-sen2-soil-moisture/extracted_images/Sentinel2/Sentinel2_crop_1/2019-07-15.tif\n",
      "/Users/alperbalmumcu/Github/sen1-sen2-soil-moisture/extracted_images/Sentinel2/Sentinel2_crop_1/2021-09-27(1).tif\n",
      "/Users/alperbalmumcu/Github/sen1-sen2-soil-moisture/extracted_images/Sentinel2/Sentinel2_crop_1/2020-08-31.tif\n",
      "/Users/alperbalmumcu/Github/sen1-sen2-soil-moisture/extracted_images/Sentinel2/Sentinel2_crop_1/2021-09-12.tif\n",
      "/Users/alperbalmumcu/Github/sen1-sen2-soil-moisture/extracted_images/Sentinel2/Sentinel2_crop_1/2021-07-17.tif\n",
      "/Users/alperbalmumcu/Github/sen1-sen2-soil-moisture/extracted_images/Sentinel2/Sentinel2_crop_1/2021-07-02.tif\n",
      "/Users/alperbalmumcu/Github/sen1-sen2-soil-moisture/extracted_images/Sentinel2/Sentinel2_crop_1/2020-08-18.tif\n",
      "/Users/alperbalmumcu/Github/sen1-sen2-soil-moisture/extracted_images/Sentinel2/Sentinel2_crop_1/2020-01-14.tif\n",
      "/Users/alperbalmumcu/Github/sen1-sen2-soil-moisture/extracted_images/Sentinel2/Sentinel2_crop_1/2019-02-18.tif\n",
      "/Users/alperbalmumcu/Github/sen1-sen2-soil-moisture/extracted_images/Sentinel2/Sentinel2_crop_1/2020-07-14(1).tif\n",
      "/Users/alperbalmumcu/Github/sen1-sen2-soil-moisture/extracted_images/Sentinel2/Sentinel2_crop_1/2019-01-09(1).tif\n",
      "/Users/alperbalmumcu/Github/sen1-sen2-soil-moisture/extracted_images/Sentinel2/Sentinel2_crop_1/2021-10-07(1).tif\n",
      "/Users/alperbalmumcu/Github/sen1-sen2-soil-moisture/extracted_images/Sentinel2/Sentinel2_crop_1/2019-03-12(1).tif\n",
      "/Users/alperbalmumcu/Github/sen1-sen2-soil-moisture/extracted_images/Sentinel2/Sentinel2_crop_1/2021-07-24(1).tif\n",
      "/Users/alperbalmumcu/Github/sen1-sen2-soil-moisture/extracted_images/Sentinel2/Sentinel2_crop_1/2021-08-08.tif\n",
      "/Users/alperbalmumcu/Github/sen1-sen2-soil-moisture/extracted_images/Sentinel2/Sentinel2_crop_1/2020-05-03(1).tif\n",
      "/Users/alperbalmumcu/Github/sen1-sen2-soil-moisture/extracted_images/Sentinel2/Sentinel2_crop_1/2020-05-03.tif\n",
      "/Users/alperbalmumcu/Github/sen1-sen2-soil-moisture/extracted_images/Sentinel2/Sentinel2_crop_1/2019-08-22.tif\n",
      "/Users/alperbalmumcu/Github/sen1-sen2-soil-moisture/extracted_images/Sentinel2/Sentinel2_crop_1/2020-02-23.tif\n",
      "/Users/alperbalmumcu/Github/sen1-sen2-soil-moisture/extracted_images/Sentinel2/Sentinel2_crop_1/2020-07-07.tif\n",
      "/Users/alperbalmumcu/Github/sen1-sen2-soil-moisture/extracted_images/Sentinel2/Sentinel2_crop_1/2021-08-13(1).tif\n",
      "/Users/alperbalmumcu/Github/sen1-sen2-soil-moisture/extracted_images/Sentinel2/Sentinel2_crop_1/2020-02-23(1).tif\n",
      "/Users/alperbalmumcu/Github/sen1-sen2-soil-moisture/extracted_images/Sentinel2/Sentinel2_crop_1/2021-06-14(1).tif\n",
      "/Users/alperbalmumcu/Github/sen1-sen2-soil-moisture/extracted_images/Sentinel2/Sentinel2_crop_1/2019-06-30.tif\n",
      "/Users/alperbalmumcu/Github/sen1-sen2-soil-moisture/extracted_images/Sentinel2/Sentinel2_crop_1/2020-03-29(1).tif\n",
      "/Users/alperbalmumcu/Github/sen1-sen2-soil-moisture/extracted_images/Sentinel2/Sentinel2_crop_1/2020-04-05(1).tif\n",
      "/Users/alperbalmumcu/Github/sen1-sen2-soil-moisture/extracted_images/Sentinel2/Sentinel2_crop_1/2020-05-15.tif\n",
      "/Users/alperbalmumcu/Github/sen1-sen2-soil-moisture/extracted_images/Sentinel2/Sentinel2_crop_1/2020-02-20.tif\n",
      "/Users/alperbalmumcu/Github/sen1-sen2-soil-moisture/extracted_images/Sentinel2/Sentinel2_crop_1/2019-03-15.tif\n",
      "/Users/alperbalmumcu/Github/sen1-sen2-soil-moisture/extracted_images/Sentinel2/Sentinel2_crop_1/2019-03-05.tif\n",
      "/Users/alperbalmumcu/Github/sen1-sen2-soil-moisture/extracted_images/Sentinel2/Sentinel2_crop_1/2019-04-24.tif\n",
      "/Users/alperbalmumcu/Github/sen1-sen2-soil-moisture/extracted_images/Sentinel2/Sentinel2_crop_1/2020-07-14.tif\n",
      "/Users/alperbalmumcu/Github/sen1-sen2-soil-moisture/extracted_images/Sentinel2/Sentinel2_crop_1/2019-08-19.tif\n",
      "/Users/alperbalmumcu/Github/sen1-sen2-soil-moisture/extracted_images/Sentinel2/Sentinel2_crop_1/2019-01-01.tif\n",
      "/Users/alperbalmumcu/Github/sen1-sen2-soil-moisture/extracted_images/Sentinel2/Sentinel2_crop_1/2020-05-10.tif\n",
      "/Users/alperbalmumcu/Github/sen1-sen2-soil-moisture/extracted_images/Sentinel2/Sentinel2_crop_1/2020-09-10.tif\n",
      "/Users/alperbalmumcu/Github/sen1-sen2-soil-moisture/extracted_images/Sentinel2/Sentinel2_crop_1/2021-02-19(1).tif\n",
      "/Users/alperbalmumcu/Github/sen1-sen2-soil-moisture/extracted_images/Sentinel2/Sentinel2_crop_1/2019-03-10.tif\n",
      "/Users/alperbalmumcu/Github/sen1-sen2-soil-moisture/extracted_images/Sentinel2/Sentinel2_crop_1/2019-03-12.tif\n",
      "/Users/alperbalmumcu/Github/sen1-sen2-soil-moisture/extracted_images/Sentinel2/Sentinel2_crop_1/2020-02-05(1).tif\n",
      "/Users/alperbalmumcu/Github/sen1-sen2-soil-moisture/extracted_images/Sentinel2/Sentinel2_crop_1/2021-08-31.tif\n",
      "/Users/alperbalmumcu/Github/sen1-sen2-soil-moisture/extracted_images/Sentinel2/Sentinel2_crop_1/2020-09-12.tif\n",
      "/Users/alperbalmumcu/Github/sen1-sen2-soil-moisture/extracted_images/Sentinel2/Sentinel2_crop_1/2019-03-10(1).tif\n",
      "/Users/alperbalmumcu/Github/sen1-sen2-soil-moisture/extracted_images/Sentinel2/Sentinel2_crop_1/2021-03-04.tif\n",
      "/Users/alperbalmumcu/Github/sen1-sen2-soil-moisture/extracted_images/Sentinel2/Sentinel2_crop_1/2019-07-25(1).tif\n",
      "/Users/alperbalmumcu/Github/sen1-sen2-soil-moisture/extracted_images/Sentinel2/Sentinel2_crop_1/2020-12-06(1).tif\n",
      "/Users/alperbalmumcu/Github/sen1-sen2-soil-moisture/extracted_images/Sentinel2/Sentinel2_crop_1/2019-01-16.tif\n",
      "/Users/alperbalmumcu/Github/sen1-sen2-soil-moisture/extracted_images/Sentinel2/Sentinel2_crop_1/2019-07-13(1).tif\n",
      "/Users/alperbalmumcu/Github/sen1-sen2-soil-moisture/extracted_images/Sentinel2/Sentinel2_crop_1/2021-07-02(1).tif\n",
      "/Users/alperbalmumcu/Github/sen1-sen2-soil-moisture/extracted_images/Sentinel2/Sentinel2_crop_1/2019-03-22.tif\n",
      "/Users/alperbalmumcu/Github/sen1-sen2-soil-moisture/extracted_images/Sentinel2/Sentinel2_crop_1/2020-10-17.tif\n",
      "/Users/alperbalmumcu/Github/sen1-sen2-soil-moisture/extracted_images/Sentinel2/Sentinel2_crop_1/2019-03-15(1).tif\n",
      "/Users/alperbalmumcu/Github/sen1-sen2-soil-moisture/extracted_images/Sentinel2/Sentinel2_crop_1/2020-09-22.tif\n",
      "/Users/alperbalmumcu/Github/sen1-sen2-soil-moisture/extracted_images/Sentinel2/Sentinel2_crop_1/2020-05-08(1).tif\n",
      "/Users/alperbalmumcu/Github/sen1-sen2-soil-moisture/extracted_images/Sentinel2/Sentinel2_crop_1/2021-08-01.tif\n",
      "/Users/alperbalmumcu/Github/sen1-sen2-soil-moisture/extracted_images/Sentinel2/Sentinel2_crop_1/2021-03-04(1).tif\n",
      "/Users/alperbalmumcu/Github/sen1-sen2-soil-moisture/extracted_images/Sentinel2/Sentinel2_crop_1/2019-11-22.tif\n",
      "/Users/alperbalmumcu/Github/sen1-sen2-soil-moisture/extracted_images/Sentinel2/Sentinel2_crop_1/2020-02-03.tif\n",
      "/Users/alperbalmumcu/Github/sen1-sen2-soil-moisture/extracted_images/Sentinel2/Sentinel2_crop_1/2020-12-06.tif\n",
      "/Users/alperbalmumcu/Github/sen1-sen2-soil-moisture/extracted_images/Sentinel2/Sentinel2_crop_1/2019-08-02.tif\n",
      "/Users/alperbalmumcu/Github/sen1-sen2-soil-moisture/extracted_images/Sentinel2/Sentinel2_crop_1/2020-09-10(1).tif\n",
      "/Users/alperbalmumcu/Github/sen1-sen2-soil-moisture/extracted_images/Sentinel2/Sentinel2_crop_1/2019-08-29.tif\n",
      "/Users/alperbalmumcu/Github/sen1-sen2-soil-moisture/extracted_images/Sentinel2/Sentinel2_crop_1/2020-05-08.tif\n",
      "/Users/alperbalmumcu/Github/sen1-sen2-soil-moisture/extracted_images/Sentinel2/Sentinel2_crop_1/2021-06-12.tif\n",
      "/Users/alperbalmumcu/Github/sen1-sen2-soil-moisture/extracted_images/Sentinel2/Sentinel2_crop_1/2019-03-20.tif\n",
      "/Users/alperbalmumcu/Github/sen1-sen2-soil-moisture/extracted_images/Sentinel2/Sentinel2_crop_1/2020-07-07(1).tif\n",
      "/Users/alperbalmumcu/Github/sen1-sen2-soil-moisture/extracted_images/Sentinel2/Sentinel2_crop_1/2020-10-05.tif\n",
      "/Users/alperbalmumcu/Github/sen1-sen2-soil-moisture/extracted_images/Sentinel2/Sentinel2_crop_1/2021-08-13.tif\n",
      "/Users/alperbalmumcu/Github/sen1-sen2-soil-moisture/extracted_images/Sentinel2/Sentinel2_crop_1/2020-05-30.tif\n",
      "/Users/alperbalmumcu/Github/sen1-sen2-soil-moisture/extracted_images/Sentinel2/Sentinel2_crop_1/2020-02-05.tif\n",
      "/Users/alperbalmumcu/Github/sen1-sen2-soil-moisture/extracted_images/Sentinel2/Sentinel2_crop_1/2019-01-16(1).tif\n",
      "/Users/alperbalmumcu/Github/sen1-sen2-soil-moisture/extracted_images/Sentinel2/Sentinel2_crop_1/2019-01-09.tif\n",
      "/Users/alperbalmumcu/Github/sen1-sen2-soil-moisture/extracted_images/Sentinel2/Sentinel2_crop_1/2019-08-04.tif\n",
      "/Users/alperbalmumcu/Github/sen1-sen2-soil-moisture/extracted_images/Sentinel2/Sentinel2_crop_1/2020-09-25.tif\n",
      "/Users/alperbalmumcu/Github/sen1-sen2-soil-moisture/extracted_images/Sentinel2/Sentinel2_crop_1/2021-06-17.tif\n",
      "/Users/alperbalmumcu/Github/sen1-sen2-soil-moisture/extracted_images/Sentinel2/Sentinel2_crop_1/2019-03-25.tif\n",
      "/Users/alperbalmumcu/Github/sen1-sen2-soil-moisture/extracted_images/Sentinel2/Sentinel2_crop_1/2020-10-12(1).tif\n",
      "/Users/alperbalmumcu/Github/sen1-sen2-soil-moisture/extracted_images/Sentinel2/Sentinel2_crop_1/2019-03-05(1).tif\n",
      "/Users/alperbalmumcu/Github/sen1-sen2-soil-moisture/extracted_images/Sentinel2/Sentinel2_crop_1/2020-10-12.tif\n",
      "/Users/alperbalmumcu/Github/sen1-sen2-soil-moisture/extracted_images/Sentinel2/Sentinel2_crop_1/2019-07-30(1).tif\n",
      "/Users/alperbalmumcu/Github/sen1-sen2-soil-moisture/extracted_images/Sentinel2/Sentinel2_crop_1/2021-06-29.tif\n",
      "/Users/alperbalmumcu/Github/sen1-sen2-soil-moisture/extracted_images/Sentinel2/Sentinel2_crop_1/2021-04-10.tif\n",
      "/Users/alperbalmumcu/Github/sen1-sen2-soil-moisture/extracted_images/Sentinel2/Sentinel2_crop_1/2021-03-19.tif\n",
      "/Users/alperbalmumcu/Github/sen1-sen2-soil-moisture/extracted_images/Sentinel2/Sentinel2_crop_1/2021-10-02(1).tif\n",
      "/Users/alperbalmumcu/Github/sen1-sen2-soil-moisture/extracted_images/Sentinel2/Sentinel2_crop_1/2021-07-17(1).tif\n",
      "/Users/alperbalmumcu/Github/sen1-sen2-soil-moisture/extracted_images/Sentinel2/Sentinel2_crop_1/2021-08-08(1).tif\n",
      "/Users/alperbalmumcu/Github/sen1-sen2-soil-moisture/extracted_images/Sentinel2/Sentinel2_crop_1/2021-06-14.tif\n",
      "/Users/alperbalmumcu/Github/sen1-sen2-soil-moisture/extracted_images/Sentinel2/Sentinel2_crop_1/2019-08-19(1).tif\n",
      "/Users/alperbalmumcu/Github/sen1-sen2-soil-moisture/extracted_images/Sentinel2/Sentinel2_crop_1/2020-05-30(1).tif\n",
      "/Users/alperbalmumcu/Github/sen1-sen2-soil-moisture/extracted_images/Sentinel2/Sentinel2_crop_1/2019-09-08.tif\n",
      "/Users/alperbalmumcu/Github/sen1-sen2-soil-moisture/extracted_images/Sentinel2/Sentinel2_crop_1/2019-07-25.tif\n",
      "/Users/alperbalmumcu/Github/sen1-sen2-soil-moisture/extracted_images/Sentinel2/Sentinel2_crop_1/2019-02-15.tif\n",
      "/Users/alperbalmumcu/Github/sen1-sen2-soil-moisture/extracted_images/Sentinel2/Sentinel2_crop_1/2019-02-15(1).tif\n",
      "/Users/alperbalmumcu/Github/sen1-sen2-soil-moisture/extracted_images/Sentinel2/Sentinel2_crop_1/2020-06-04.tif\n",
      "/Users/alperbalmumcu/Github/sen1-sen2-soil-moisture/extracted_images/Sentinel2/Sentinel2_crop_1/2021-07-27.tif\n",
      "/Users/alperbalmumcu/Github/sen1-sen2-soil-moisture/extracted_images/Sentinel2/Sentinel2_crop_1/2020-01-19.tif\n",
      "/Users/alperbalmumcu/Github/sen1-sen2-soil-moisture/extracted_images/Sentinel2/Sentinel2_crop_1/2021-10-02.tif\n",
      "/Users/alperbalmumcu/Github/sen1-sen2-soil-moisture/extracted_images/Sentinel2/Sentinel2_crop_1/2019-02-28.tif\n",
      "/Users/alperbalmumcu/Github/sen1-sen2-soil-moisture/extracted_images/Sentinel2/Sentinel2_crop_1/2019-07-30.tif\n",
      "/Users/alperbalmumcu/Github/sen1-sen2-soil-moisture/extracted_images/Sentinel2/Sentinel2_crop_1/2021-05-28(1).tif\n",
      "/Users/alperbalmumcu/Github/sen1-sen2-soil-moisture/extracted_images/Sentinel2/Sentinel2_crop_1/2020-03-21.tif\n",
      "/Users/alperbalmumcu/Github/sen1-sen2-soil-moisture/extracted_images/Sentinel2/Sentinel2_crop_1/2021-07-24.tif\n",
      "/Users/alperbalmumcu/Github/sen1-sen2-soil-moisture/extracted_images/Sentinel2/Sentinel2_crop_1/2020-06-12.tif\n",
      "/Users/alperbalmumcu/Github/sen1-sen2-soil-moisture/extracted_images/Sentinel2/Sentinel2_crop_1/2019-12-12.tif\n",
      "/Users/alperbalmumcu/Github/sen1-sen2-soil-moisture/extracted_images/Sentinel2/Sentinel2_crop_1/2021-05-08.tif\n",
      "/Users/alperbalmumcu/Github/sen1-sen2-soil-moisture/extracted_images/Sentinel2/Sentinel2_crop_1/2020-02-20(1).tif\n",
      "/Users/alperbalmumcu/Github/sen1-sen2-soil-moisture/extracted_images/Sentinel2/Sentinel2_crop_1/2021-07-09.tif\n",
      "/Users/alperbalmumcu/Github/sen1-sen2-soil-moisture/extracted_images/Sentinel2/Sentinel2_crop_1/2020-06-17.tif\n",
      "/Users/alperbalmumcu/Github/sen1-sen2-soil-moisture/extracted_images/Sentinel2/Sentinel2_crop_1/2020-09-22(1).tif\n",
      "/Users/alperbalmumcu/Github/sen1-sen2-soil-moisture/extracted_images/Sentinel2/Sentinel2_crop_1/2021-07-27(1).tif\n",
      "/Users/alperbalmumcu/Github/sen1-sen2-soil-moisture/extracted_images/Sentinel2/Sentinel2_crop_1/2019-07-20.tif\n",
      "/Users/alperbalmumcu/Github/sen1-sen2-soil-moisture/extracted_images/Sentinel2/Sentinel2_crop_1/2019-06-30(1).tif\n",
      "/Users/alperbalmumcu/Github/sen1-sen2-soil-moisture/extracted_images/Sentinel2/Sentinel2_crop_1/2019-12-15.tif\n",
      "/Users/alperbalmumcu/Github/sen1-sen2-soil-moisture/extracted_images/Sentinel2/Sentinel2_crop_1/2021-09-27.tif\n",
      "/Users/alperbalmumcu/Github/sen1-sen2-soil-moisture/extracted_images/Sentinel2/Sentinel2_crop_1/2020-08-11.tif\n",
      "/Users/alperbalmumcu/Github/sen1-sen2-soil-moisture/extracted_images/Sentinel2/Sentinel2_crop_1/2019-05-29(1).tif\n",
      "/Users/alperbalmumcu/Github/sen1-sen2-soil-moisture/extracted_images/Sentinel2/Sentinel2_crop_1/2021-10-07.tif\n",
      "/Users/alperbalmumcu/Github/sen1-sen2-soil-moisture/extracted_images/Sentinel2/Sentinel2_crop_1/2021-06-17(1).tif\n",
      "/Users/alperbalmumcu/Github/sen1-sen2-soil-moisture/extracted_images/Sentinel2/Sentinel2_crop_1/2020-04-05.tif\n"
     ]
    }
   ],
   "source": [
    "sentinel_2_path= \"/Users/alperbalmumcu/Github/sen1-sen2-soil-moisture/extracted_images/Sentinel2/Sentinel2_crop_1\"\n",
    "\n",
    "Sen2 = image_load(sentinel_2_path,sentinel_type= 1)\n"
   ]
  },
  {
   "cell_type": "code",
   "execution_count": 4,
   "id": "b939d084-058d-4a41-9c8d-c2677bc446ff",
   "metadata": {},
   "outputs": [
    {
     "data": {
      "text/plain": [
       "(145, 256, 256, 3)"
      ]
     },
     "execution_count": 4,
     "metadata": {},
     "output_type": "execute_result"
    }
   ],
   "source": [
    "Sen2.shape"
   ]
  },
  {
   "cell_type": "code",
   "execution_count": 6,
   "id": "77fea223",
   "metadata": {},
   "outputs": [],
   "source": [
    "Sen2_filter = filter_night_images(Sen2)"
   ]
  },
  {
   "cell_type": "code",
   "execution_count": 7,
   "id": "b84c4fc6",
   "metadata": {},
   "outputs": [
    {
     "data": {
      "text/plain": [
       "(139, 256, 256, 3)"
      ]
     },
     "execution_count": 7,
     "metadata": {},
     "output_type": "execute_result"
    }
   ],
   "source": [
    "Sen2_filter.shape"
   ]
  },
  {
   "cell_type": "code",
   "execution_count": null,
   "id": "4f539523",
   "metadata": {},
   "outputs": [],
   "source": []
  }
 ],
 "metadata": {
  "kernelspec": {
   "display_name": "Python 3.8.13 64-bit ('env_tf')",
   "language": "python",
   "name": "python3"
  },
  "language_info": {
   "codemirror_mode": {
    "name": "ipython",
    "version": 3
   },
   "file_extension": ".py",
   "mimetype": "text/x-python",
   "name": "python",
   "nbconvert_exporter": "python",
   "pygments_lexer": "ipython3",
   "version": "3.8.13"
  },
  "vscode": {
   "interpreter": {
    "hash": "f52c1bd84019b007b9cd57d78cc193e1d9660160e0759401fb024685e152cd0d"
   }
  }
 },
 "nbformat": 4,
 "nbformat_minor": 5
}
