{
 "cells": [
  {
   "cell_type": "code",
   "execution_count": null,
   "metadata": {},
   "outputs": [],
   "source": [
    "from utils import dataset\n",
    "import pandas as pd\n",
    "import matplotlib.pyplot as plt\n",
    "import glob, os\n",
    "pd.options.mode.chained_assignment = None  # default='warn'\n",
    "import warnings\n",
    "from functools import reduce\n",
    "warnings.filterwarnings(\"ignore\")\n",
    "\n"
   ]
  },
  {
   "cell_type": "code",
   "execution_count": null,
   "metadata": {},
   "outputs": [],
   "source": [
    "\n",
    "csv_path = \"/Users/alperbalmumcu/Github/sen1-sen2-soil-moisture/RISMA/dataset/datasets/\"\n",
    "prename = \"Manitoba_Station_\"\n",
    "\n",
    "soil_list, prep_list,date_list = dataset.get_soil_prep_date(csv_path,prename)\n",
    "df = dataset.merge_datasets_wdates(date_list,soil_list,prep_list)\n",
    "\n",
    "\n",
    "\n"
   ]
  },
  {
   "cell_type": "code",
   "execution_count": null,
   "metadata": {},
   "outputs": [],
   "source": [
    "df.tail(20)"
   ]
  },
  {
   "cell_type": "code",
   "execution_count": null,
   "metadata": {},
   "outputs": [],
   "source": [
    "plt.figure(figsize=(20,10))\n",
    "plt.plot(df.Date,df['Soil_1'],color=\"blue\",label=\"Soil / Station 1\")\n",
    "ax = plt.gca()\n",
    "## plt.savefig(\"/content/drive/MyDrive/RISMA_full/Risma_Dataset/Manitoba_Station2_DailyData_[2016-02-29_2021-10-01].png\")\n",
    "plt.show()"
   ]
  },
  {
   "cell_type": "code",
   "execution_count": null,
   "metadata": {},
   "outputs": [],
   "source": []
  }
 ],
 "metadata": {
  "kernelspec": {
   "display_name": "Python 3 (ipykernel)",
   "language": "python",
   "name": "python3"
  },
  "language_info": {
   "codemirror_mode": {
    "name": "ipython",
    "version": 3
   },
   "file_extension": ".py",
   "mimetype": "text/x-python",
   "name": "python",
   "nbconvert_exporter": "python",
   "pygments_lexer": "ipython3",
   "version": "3.8.13"
  },
  "vscode": {
   "interpreter": {
    "hash": "f52c1bd84019b007b9cd57d78cc193e1d9660160e0759401fb024685e152cd0d"
   }
  }
 },
 "nbformat": 4,
 "nbformat_minor": 4
}
